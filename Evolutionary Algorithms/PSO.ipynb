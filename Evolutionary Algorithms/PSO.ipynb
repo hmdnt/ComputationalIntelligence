{
 "cells": [
  {
   "cell_type": "markdown",
   "metadata": {},
   "source": [
    "<h1 style=\"text-align:center;\">Computational Intelligence</h1>\n",
    "<h2 style=\"text-align:center;\">Particle Swarm Optimization</h2>\n",
    "<h4 style=\"text-align:center;\">by H. Naderan</h4>\n",
    "<h5 style=\"text-align:center;\">\n",
    "Mechanical Engineering Department<br>\n",
    "Amirkabir University of Technology\n",
    "</h5>\n",
    "\n",
    "***"
   ]
  },
  {
   "cell_type": "markdown",
   "metadata": {},
   "source": [
    "### Importing libraries"
   ]
  },
  {
   "cell_type": "code",
   "execution_count": null,
   "metadata": {},
   "outputs": [],
   "source": [
    "import numpy as np\n",
    "import pyswarms as ps\n",
    "from pyswarms.utils.functions import single_obj as fx"
   ]
  },
  {
   "cell_type": "markdown",
   "metadata": {},
   "source": [
    "### Cost function\n",
    "For demonstration purpose, we choose the **Rastrigin** function. A plot of 2D version of this function is "
   ]
  },
  {
   "cell_type": "code",
   "execution_count": null,
   "metadata": {},
   "outputs": [],
   "source": [
    "import matplotlib.pyplot as plt\n",
    "from matplotlib import colormaps as cm\n",
    "\n",
    "x = np.arange(-5.12, 5.12, 0.01)\n",
    "y = np.arange(-5.12, 5.12, 0.01)\n",
    "X, Y = np.meshgrid(x, y)\n",
    "Z = fx.rastrigin(np.vstack((X.reshape(-1), Y.reshape(-1))).transpose())\n",
    "fig, ax = plt.subplots(subplot_kw={\"projection\": \"3d\"})\n",
    "ax.plot_surface(X, Y, Z.reshape((len(x), len(y))), vmin=Z.min() * 2, cmap = cm['Blues'])\n"
   ]
  },
  {
   "cell_type": "markdown",
   "metadata": {},
   "source": [
    "### Defining parameters"
   ]
  },
  {
   "cell_type": "code",
   "execution_count": null,
   "metadata": {},
   "outputs": [],
   "source": [
    "# Create bounds\n",
    "max_bound = 5.12 * np.ones(2)\n",
    "min_bound = - max_bound\n",
    "bounds = (min_bound, max_bound)\n",
    "options = {'c1': 0.5, 'c2': 0.3, 'w':0.9}"
   ]
  },
  {
   "cell_type": "markdown",
   "metadata": {},
   "source": [
    "### Selecting Optimizer"
   ]
  },
  {
   "cell_type": "code",
   "execution_count": null,
   "metadata": {},
   "outputs": [],
   "source": [
    "optimizer = ps.single.GlobalBestPSO(n_particles=10, dimensions=2, options=options, bounds=bounds)"
   ]
  },
  {
   "cell_type": "markdown",
   "metadata": {},
   "source": [
    "### Running the algorithm"
   ]
  },
  {
   "cell_type": "code",
   "execution_count": null,
   "metadata": {},
   "outputs": [],
   "source": [
    "cost, pos = optimizer.optimize(fx.rastrigin, iters=1000)"
   ]
  }
 ],
 "metadata": {
  "kernelspec": {
   "display_name": ".venv",
   "language": "python",
   "name": "python3"
  },
  "language_info": {
   "codemirror_mode": {
    "name": "ipython",
    "version": 3
   },
   "file_extension": ".py",
   "mimetype": "text/x-python",
   "name": "python",
   "nbconvert_exporter": "python",
   "pygments_lexer": "ipython3",
   "version": "3.12.7"
  }
 },
 "nbformat": 4,
 "nbformat_minor": 2
}
