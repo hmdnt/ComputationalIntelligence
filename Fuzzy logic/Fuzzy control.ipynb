{
 "cells": [
  {
   "cell_type": "markdown",
   "metadata": {},
   "source": [
    "<h1 style=\"text-align:center;\">Computational Intelligence</h1>\n",
    "<h2 style=\"text-align:center;\">Rule-based Fuzzy Control System</h2>\n",
    "<h4 style=\"text-align:center;\">by H. Naderan</h4>\n",
    "<h5 style=\"text-align:center;\">\n",
    "Mechanical Engineering Department<br>\n",
    "Amirkabir University of Technology\n",
    "</h5>\n",
    "\n",
    "***"
   ]
  },
  {
   "cell_type": "markdown",
   "metadata": {},
   "source": [
    "### Description of the problem\n",
    "We want to design a control system for automatic braking of a car. The braking force which is determined by the hydraulic fluid pressure is the dependent variable. There are two input variables defined for this system which are *speed* of the vehicle and the *distance* to the obstacle.  \n",
    "\n",
    "There are many approaches for solving this problem. We want to use a **Rule-based** system using Fuzzy logic. The rules are described using colloquial language. "
   ]
  },
  {
   "cell_type": "markdown",
   "metadata": {},
   "source": [
    "### Importing libraries"
   ]
  },
  {
   "cell_type": "code",
   "execution_count": 13,
   "metadata": {},
   "outputs": [],
   "source": [
    "import numpy as np\n",
    "import skfuzzy as fuzz\n",
    "from skfuzzy import control as ctrl"
   ]
  },
  {
   "cell_type": "markdown",
   "metadata": {},
   "source": [
    "### Universe definition\n",
    "New Antecedent/Consequent objects hold universe variables and membership functions"
   ]
  },
  {
   "cell_type": "code",
   "execution_count": 14,
   "metadata": {},
   "outputs": [],
   "source": [
    "speed = ctrl.Antecedent(np.arange(0, 121, 10), 'speed')\n",
    "distance = ctrl.Antecedent(np.arange(0, 401, 10), 'distance')\n",
    "pressure = ctrl.Consequent(np.arange(40, 201, 10), 'pressure')"
   ]
  },
  {
   "cell_type": "markdown",
   "metadata": {},
   "source": [
    "### Membership functions\n",
    "We can define the membership functions automatically using `automf()` method "
   ]
  },
  {
   "cell_type": "code",
   "execution_count": 15,
   "metadata": {},
   "outputs": [],
   "source": [
    "speed.automf(names = ['low', 'medium', 'high'])\n",
    "distance.automf(names = ['near', 'average', 'far'])"
   ]
  },
  {
   "cell_type": "markdown",
   "metadata": {},
   "source": [
    "Custom membership functions can be built interactively with a familiar, Pythonic API"
   ]
  },
  {
   "cell_type": "code",
   "execution_count": 16,
   "metadata": {},
   "outputs": [],
   "source": [
    "pressure['low'] = fuzz.trimf(pressure.universe, [40, 40, 80])\n",
    "pressure['below_average'] = fuzz.trimf(pressure.universe, [40, 80, 120])\n",
    "pressure['average'] = fuzz.trimf(pressure.universe, [80, 120, 160])\n",
    "pressure['above_average'] = fuzz.trimf(pressure.universe, [120, 160, 200])\n",
    "pressure['high'] = fuzz.trimf(pressure.universe, [160, 200, 200])"
   ]
  },
  {
   "cell_type": "markdown",
   "metadata": {},
   "source": [
    "Membership functions can be plotted using the `view()` method."
   ]
  },
  {
   "cell_type": "code",
   "execution_count": null,
   "metadata": {},
   "outputs": [],
   "source": [
    "# You can see how these look with .view()\n",
    "speed['medium'].view()"
   ]
  },
  {
   "cell_type": "code",
   "execution_count": null,
   "metadata": {},
   "outputs": [],
   "source": [
    "distance.view()"
   ]
  },
  {
   "cell_type": "code",
   "execution_count": null,
   "metadata": {},
   "outputs": [],
   "source": [
    "pressure.view()"
   ]
  },
  {
   "cell_type": "markdown",
   "metadata": {},
   "source": [
    "### Defining the rules\n",
    "The heart of a rule-based system is the rule table, which defines the consequence (the output variable) in terms of the antecedents (the input variable(s)). We define rules that are shown in the table below:\n",
    "\n",
    "|      |Near|Average|Far|\n",
    "|---|:-:|:-:|:-:|\n",
    "|Low|Average|Below Average|Low|\n",
    "|Medium|Above Average|Average|Below Average|\n",
    "|High|High|Above Average|Average|"
   ]
  },
  {
   "cell_type": "code",
   "execution_count": 20,
   "metadata": {},
   "outputs": [],
   "source": [
    "rules = [\n",
    "    ctrl.Rule(speed['high'] & distance['near'], pressure['high']),\n",
    "    ctrl.Rule(\n",
    "        (speed['high'] & distance['average']) |\n",
    "        (speed['medium'] & distance['near']), \n",
    "        pressure['above_average']\n",
    "    ),\n",
    "    ctrl.Rule(\n",
    "        (speed['high'] & distance['far']) | \n",
    "        (speed['medium'] & distance['average']) |\n",
    "        (speed['low'] & distance['near']), \n",
    "        pressure['average']\n",
    "    ),\n",
    "    ctrl.Rule(\n",
    "        (speed['medium'] & distance['far']) | \n",
    "        (speed['low'] & distance['average']), \n",
    "        pressure['below_average']\n",
    "    ),\n",
    "    ctrl.Rule(speed['low'] & distance['far'], pressure['low']),\n",
    "]"
   ]
  },
  {
   "cell_type": "markdown",
   "metadata": {},
   "source": [
    "The brake control system is defined using the rules described"
   ]
  },
  {
   "cell_type": "code",
   "execution_count": 21,
   "metadata": {},
   "outputs": [],
   "source": [
    "brake_ctrl = ctrl.ControlSystem(rules)"
   ]
  },
  {
   "cell_type": "markdown",
   "metadata": {},
   "source": [
    "And an instance of the system is created named `braking`"
   ]
  },
  {
   "cell_type": "code",
   "execution_count": 22,
   "metadata": {},
   "outputs": [],
   "source": [
    "braking = ctrl.ControlSystemSimulation(brake_ctrl)"
   ]
  },
  {
   "cell_type": "markdown",
   "metadata": {},
   "source": [
    "### Control system in action\n",
    "Now we can pass the input values to the system and get the output value."
   ]
  },
  {
   "cell_type": "code",
   "execution_count": 23,
   "metadata": {},
   "outputs": [],
   "source": [
    "braking.input['speed'] = 85\n",
    "braking.input['distance'] = 250\n",
    "\n",
    "braking.compute()"
   ]
  },
  {
   "cell_type": "markdown",
   "metadata": {},
   "source": [
    "We can get the output variable and plot the its fuzzy membership function"
   ]
  },
  {
   "cell_type": "code",
   "execution_count": null,
   "metadata": {},
   "outputs": [],
   "source": [
    "print(braking.output['pressure'])\n",
    "pressure.view(sim=braking)"
   ]
  }
 ],
 "metadata": {
  "kernelspec": {
   "display_name": ".venv",
   "language": "python",
   "name": "python3"
  },
  "language_info": {
   "codemirror_mode": {
    "name": "ipython",
    "version": 3
   },
   "file_extension": ".py",
   "mimetype": "text/x-python",
   "name": "python",
   "nbconvert_exporter": "python",
   "pygments_lexer": "ipython3",
   "version": "3.12.8"
  }
 },
 "nbformat": 4,
 "nbformat_minor": 2
}
